{
 "cells": [
  {
   "cell_type": "markdown",
   "id": "83560388-f0fe-4e8d-888f-37a7d31695ec",
   "metadata": {},
   "source": [
    "Программа для узнавания рукописных цифр их набора mnist."
   ]
  },
  {
   "cell_type": "markdown",
   "id": "38148327-6662-4e1b-8cb0-6e83e3c9910d",
   "metadata": {
    "tags": []
   },
   "source": [
    "Получаем набор данных mnist, который содержит изображения с рукописными цифрами."
   ]
  },
  {
   "cell_type": "code",
   "execution_count": 32,
   "id": "c521e577-2690-41d1-99b2-9fc0a0756c10",
   "metadata": {
    "tags": []
   },
   "outputs": [],
   "source": [
    "from tensorflow.keras.datasets import mnist\n",
    "\n",
    "(train_images, train_labels), (test_images, test_labels) = mnist.load_data()\n"
   ]
  },
  {
   "cell_type": "code",
   "execution_count": 33,
   "id": "f0cd3935-21d2-40ce-aa49-1b9db0545afe",
   "metadata": {},
   "outputs": [
    {
     "data": {
      "text/plain": [
       "(60000, 28, 28)"
      ]
     },
     "execution_count": 33,
     "metadata": {},
     "output_type": "execute_result"
    }
   ],
   "source": [
    "train_images.shape\n",
    "# (60000, 28, 28) - 60 тысяч изображений размера 28x28, размерность 60000x28x28"
   ]
  },
  {
   "cell_type": "markdown",
   "id": "820ed521-403a-453f-ad7b-682b06698978",
   "metadata": {},
   "source": [
    "train_labels имеет 60000 цифровых элементов, обозначающих значение на соответствующем ему изображении"
   ]
  },
  {
   "cell_type": "code",
   "execution_count": 34,
   "id": "7e4eaa74-be3d-4b03-8402-c3eb274af1e6",
   "metadata": {},
   "outputs": [
    {
     "data": {
      "text/plain": [
       "(60000, array([5, 0, 4, ..., 5, 6, 8], dtype=uint8))"
      ]
     },
     "execution_count": 34,
     "metadata": {},
     "output_type": "execute_result"
    }
   ],
   "source": [
    "len(train_labels), train_labels"
   ]
  },
  {
   "cell_type": "markdown",
   "id": "3ac862a9-56e0-4f53-8c9e-c60322d5f930",
   "metadata": {},
   "source": [
    "Составим модель, состоящую из 2 полносвязных слоев. И скомпилируем её."
   ]
  },
  {
   "cell_type": "code",
   "execution_count": 35,
   "id": "f6424ff0-090b-4ffc-8f3f-610ac953ac49",
   "metadata": {},
   "outputs": [],
   "source": [
    "from tensorflow.keras import models\n",
    "from tensorflow.keras import layers\n",
    "\n",
    "network = models.Sequential(\n",
    "    [\n",
    "        layers.Dense(512, activation='relu', input_shape=(28 * 28,)),\n",
    "        layers.Dense(10, activation='softmax')\n",
    "    ]\n",
    ")\n"
   ]
  },
  {
   "cell_type": "code",
   "execution_count": 36,
   "id": "f310732f-1c3a-4336-9169-8a5e1f069d7d",
   "metadata": {},
   "outputs": [],
   "source": [
    "network.compile(optimizer='rmsprop',\n",
    " loss='categorical_crossentropy',\n",
    " metrics=['accuracy'])"
   ]
  },
  {
   "cell_type": "markdown",
   "id": "188cf410-6c7c-47fb-94a5-08b4dc655b4a",
   "metadata": {},
   "source": [
    "Подготовим входные данные, преобразовав их из диапозона [0, 255] в диапозон [0, 1] и изменив размерность с (60000, 28, 28) до (60000, 28*28)"
   ]
  },
  {
   "cell_type": "code",
   "execution_count": 37,
   "id": "c79ea08b-6403-4e9b-b564-de337881b3b9",
   "metadata": {},
   "outputs": [],
   "source": [
    "train_images = train_images.reshape((60000, 28 * 28))\n",
    "train_images = train_images.astype('float32') / 255\n",
    "\n",
    "test_images = test_images.reshape((10000, 28 * 28))\n",
    "test_images = test_images.astype('float32') / 255"
   ]
  },
  {
   "cell_type": "markdown",
   "id": "3a67f55a-f28c-43c4-a6f8-e2b58c8796bc",
   "metadata": {},
   "source": [
    "Установим метки категорий для labels."
   ]
  },
  {
   "cell_type": "code",
   "execution_count": 38,
   "id": "c3634e23-a671-485a-b55c-8756ebf47c2b",
   "metadata": {},
   "outputs": [],
   "source": [
    "from tensorflow.keras.utils import to_categorical\n",
    "\n",
    "train_labels = to_categorical(train_labels)\n",
    "test_labels = to_categorical(test_labels)"
   ]
  },
  {
   "cell_type": "code",
   "execution_count": 39,
   "id": "80582ac5-295d-4b3e-bb59-6765132b8a4e",
   "metadata": {},
   "outputs": [
    {
     "name": "stdout",
     "output_type": "stream",
     "text": [
      "Train on 60000 samples\n",
      "Epoch 1/5\n",
      "60000/60000 [==============================] - 2s 26us/sample - loss: 0.2524 - accuracy: 0.9269\n",
      "Epoch 2/5\n",
      "60000/60000 [==============================] - 1s 19us/sample - loss: 0.1037 - accuracy: 0.9688\n",
      "Epoch 3/5\n",
      "60000/60000 [==============================] - 1s 19us/sample - loss: 0.0678 - accuracy: 0.9795\n",
      "Epoch 4/5\n",
      "60000/60000 [==============================] - 1s 19us/sample - loss: 0.0496 - accuracy: 0.9849\n",
      "Epoch 5/5\n",
      "60000/60000 [==============================] - 1s 19us/sample - loss: 0.0363 - accuracy: 0.9891\n"
     ]
    },
    {
     "data": {
      "text/plain": [
       "<tensorflow.python.keras.callbacks.History at 0x11906062588>"
      ]
     },
     "execution_count": 39,
     "metadata": {},
     "output_type": "execute_result"
    }
   ],
   "source": [
    "network.fit(train_images, train_labels, epochs=5, batch_size=128)"
   ]
  },
  {
   "cell_type": "code",
   "execution_count": 40,
   "id": "5f9f18a2-a948-4069-987a-f7accb763ce3",
   "metadata": {},
   "outputs": [
    {
     "name": "stdout",
     "output_type": "stream",
     "text": [
      "10000/10000 [==============================] - 1s 146us/sample - loss: 0.0677 - accuracy: 0.9808\n",
      "test_acc: 0.9808\n"
     ]
    }
   ],
   "source": [
    "test_loss, test_acc = network.evaluate(test_images, test_labels)\n",
    "print('test_acc:', test_acc)"
   ]
  },
  {
   "cell_type": "markdown",
   "id": "9c4cce1c-234e-4184-b0f2-e18e5047cd07",
   "metadata": {},
   "source": [
    "Разность составила около 1 процента, легкое переобучение"
   ]
  }
 ],
 "metadata": {
  "kernelspec": {
   "display_name": "Python 3",
   "language": "python",
   "name": "python3"
  },
  "language_info": {
   "codemirror_mode": {
    "name": "ipython",
    "version": 3
   },
   "file_extension": ".py",
   "mimetype": "text/x-python",
   "name": "python",
   "nbconvert_exporter": "python",
   "pygments_lexer": "ipython3",
   "version": "3.7.10"
  }
 },
 "nbformat": 4,
 "nbformat_minor": 5
}
